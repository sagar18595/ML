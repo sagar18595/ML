{
 "cells": [
  {
   "cell_type": "code",
   "execution_count": 37,
   "metadata": {},
   "outputs": [],
   "source": [
    "import numpy as np\n",
    "import pandas as pd\n",
    "import matplotlib.pyplot as plt\n",
    "from xgboost import XGBClassifier\n",
    "from sklearn.preprocessing import OrdinalEncoder\n",
    "from sklearn.model_selection import KFold,cross_val_score\n",
    "from sklearn.metrics import confusion_matrix, accuracy_score"
   ]
  },
  {
   "cell_type": "code",
   "execution_count": 38,
   "metadata": {},
   "outputs": [],
   "source": [
    "train = np.array(np.genfromtxt ('adult.data',delimiter = ',' ,dtype = np.str), dtype = np.object)\n",
    "test = np.array(np.genfromtxt ('adult.test',delimiter = ',', dtype = np.str), dtype = np.object)\n"
   ]
  },
  {
   "cell_type": "code",
   "execution_count": 39,
   "metadata": {},
   "outputs": [],
   "source": [
    "train[:,[0,2,4,10,11,12]] = train[:,[0,2,4,10,11,12]].astype(np.float)"
   ]
  },
  {
   "cell_type": "code",
   "execution_count": 40,
   "metadata": {},
   "outputs": [],
   "source": [
    "enc1 = OrdinalEncoder()\n",
    "enc1.fit(train[:,[1,3,5,6,7,8,9,13,14]])\n",
    "train[:,[1,3,5,6,7,8,9,13,14]] = enc1.transform(train[:,[1,3,5,6,7,8,9,13,14]])\n",
    "test[:,[1,3,5,6,7,8,9,13,14]] = enc1.transform(test[:,[1,3,5,6,7,8,9,13,14]])"
   ]
  },
  {
   "cell_type": "code",
   "execution_count": 41,
   "metadata": {},
   "outputs": [
    {
     "data": {
      "text/plain": [
       "array([[7.0, 9.0, 4.0, 1.0, 1.0, 4.0, 1.0, 39.0, 0.0],\n",
       "       [6.0, 9.0, 2.0, 4.0, 0.0, 4.0, 1.0, 39.0, 0.0],\n",
       "       [4.0, 11.0, 0.0, 6.0, 1.0, 4.0, 1.0, 39.0, 0.0]], dtype=object)"
      ]
     },
     "execution_count": 41,
     "metadata": {},
     "output_type": "execute_result"
    }
   ],
   "source": [
    "train[:3,[1,3,5,6,7,8,9,13,14]]"
   ]
  },
  {
   "cell_type": "code",
   "execution_count": 42,
   "metadata": {},
   "outputs": [],
   "source": [
    "train = train.astype(np.float)\n",
    "test = test.astype(np.float)"
   ]
  },
  {
   "cell_type": "code",
   "execution_count": 43,
   "metadata": {},
   "outputs": [],
   "source": [
    "Xtrain = train[:,:-1]\n",
    "ytrain = train[:,-1]\n",
    "Xtest = test[:,:-1]\n",
    "ytest = test[:,-1]"
   ]
  },
  {
   "cell_type": "code",
   "execution_count": 44,
   "metadata": {},
   "outputs": [
    {
     "name": "stderr",
     "output_type": "stream",
     "text": [
      "C:\\Users\\SAGAR\\AppData\\Roaming\\Python\\Python37\\site-packages\\xgboost\\data.py:106: UserWarning: Use subset (sliced data) of np.ndarray is not recommended because it will generate extra copies and increase memory consumption\n",
      "  \"because it will generate extra copies and increase \" +\n"
     ]
    }
   ],
   "source": [
    "m1 = XGBClassifier(use_label_encoder =False)\n",
    "m1.fit(Xtrain,ytrain)\n",
    "ypred = m1.predict(Xtest)\n",
    "\n",
    "acc = accuracy_score(ytest,ypred)"
   ]
  },
  {
   "cell_type": "code",
   "execution_count": 45,
   "metadata": {},
   "outputs": [
    {
     "name": "stdout",
     "output_type": "stream",
     "text": [
      " Accuracy on test :  0.8700939745715865\n",
      "Confusion Matrix of test : \n",
      "  [[11643   792]\n",
      " [ 1323  2523]]\n"
     ]
    }
   ],
   "source": [
    "print (\" Accuracy on test : \", acc)\n",
    "print (\"Confusion Matrix of test : \\n \", confusion_matrix(ytest,ypred))"
   ]
  },
  {
   "cell_type": "code",
   "execution_count": 46,
   "metadata": {},
   "outputs": [
    {
     "name": "stdout",
     "output_type": "stream",
     "text": [
      " Accuracy on train :  0.9043334049937041\n",
      "Confusion Matrix of train :\n",
      "  [[23667  1053]\n",
      " [ 2062  5779]]\n"
     ]
    }
   ],
   "source": [
    "ypred_train = m1.predict(Xtrain)\n",
    "print (\" Accuracy on train : \",accuracy_score(ytrain,ypred_train))\n",
    "print (\"Confusion Matrix of train :\\n \", confusion_matrix(ytrain,ypred_train))"
   ]
  },
  {
   "cell_type": "code",
   "execution_count": 47,
   "metadata": {},
   "outputs": [
    {
     "data": {
      "text/plain": [
       "0.8700939745715865"
      ]
     },
     "execution_count": 47,
     "metadata": {},
     "output_type": "execute_result"
    }
   ],
   "source": [
    "m2 = XGBClassifier(use_label_encoder =False)\n",
    "m2.fit(Xtrain1,ytrain1)\n",
    "ypred2 = m2.predict(Xtest1)\n",
    "\n",
    "acc2 = accuracy_score(ytest1,ypred2)\n",
    "acc2"
   ]
  },
  {
   "cell_type": "code",
   "execution_count": 48,
   "metadata": {},
   "outputs": [
    {
     "name": "stdout",
     "output_type": "stream",
     "text": [
      "[[23667  1053]\n",
      " [ 2062  5779]]\n",
      "[[11643   792]\n",
      " [ 1323  2523]]\n",
      "[[11643   792]\n",
      " [ 1323  2523]]\n"
     ]
    }
   ],
   "source": [
    "print (confusion_matrix(ytrain,ypred_train))\n",
    "print (confusion_matrix(ytest,ypred))\n",
    "print (confusion_matrix(ytest1,ypred2))"
   ]
  },
  {
   "cell_type": "code",
   "execution_count": 49,
   "metadata": {},
   "outputs": [],
   "source": [
    "\n",
    "#result = cross_val_score(m1,Xtrain,ytrain,cv = kfold)\n",
    "\n",
    "#result"
   ]
  },
  {
   "cell_type": "code",
   "execution_count": 50,
   "metadata": {},
   "outputs": [
    {
     "name": "stdout",
     "output_type": "stream",
     "text": [
      "[0.8808353808353808, 0.8826781326781327, 0.8808353808353808, 0.8639434889434889, 0.8627149877149877]\n"
     ]
    }
   ],
   "source": [
    "m = [0.3,0.2,0.1,0.01,0.001]\n",
    "kf = KFold(n_splits=10, random_state=7, shuffle = False)\n",
    "acc_hp = []\n",
    "for i in m:\n",
    "    m4 = XGBClassifier(verbosity = 0, use_label_encoder =False, eta = i)\n",
    "    acc_kfold = []\n",
    "    for train_index, test_index in kf.split(Xtrain):\n",
    "        X_train2, X_val2 = Xtrain[train_index], Xtrain[test_index]\n",
    "        y_train2, y_val2 = ytrain[train_index], ytrain[test_index]\n",
    "        m4.fit(X_train2,y_train2)\n",
    "        ypred11 = m4.predict(X_val2)\n",
    "        acc_kfold.append(accuracy_score(y_val2,ypred11))\n",
    "    acc_hp.append(np.max(acc_kfold))\n",
    "\n",
    "print (acc_hp)"
   ]
  },
  {
   "cell_type": "code",
   "execution_count": 51,
   "metadata": {},
   "outputs": [
    {
     "name": "stdout",
     "output_type": "stream",
     "text": [
      "learning rate and accuracy :  (0.3, 0.8808353808353808)\n",
      "learning rate and accuracy :  (0.2, 0.8826781326781327)\n",
      "learning rate and accuracy :  (0.1, 0.8808353808353808)\n",
      "learning rate and accuracy :  (0.01, 0.8639434889434889)\n",
      "learning rate and accuracy :  (0.001, 0.8627149877149877)\n"
     ]
    }
   ],
   "source": [
    "for i in range (5) :\n",
    "    print (\"learning rate and accuracy : \", (m[i],acc_hp[i]))"
   ]
  },
  {
   "cell_type": "code",
   "execution_count": 52,
   "metadata": {},
   "outputs": [
    {
     "data": {
      "text/plain": [
       "0.8727965112708065"
      ]
     },
     "execution_count": 52,
     "metadata": {},
     "output_type": "execute_result"
    }
   ],
   "source": [
    "mf = XGBClassifier(use_label_encoder =False, eta = 0.2 )\n",
    "mf.fit(Xtrain,ytrain)\n",
    "ypred2 = mf.predict(Xtest)\n",
    "\n",
    "acc2 = accuracy_score(ytest,ypred2)\n",
    "acc2"
   ]
  },
  {
   "cell_type": "code",
   "execution_count": 53,
   "metadata": {},
   "outputs": [
    {
     "name": "stdout",
     "output_type": "stream",
     "text": [
      "[[11679   756]\n",
      " [ 1315  2531]]\n"
     ]
    }
   ],
   "source": [
    "print (confusion_matrix(ytest,ypred2))"
   ]
  },
  {
   "cell_type": "code",
   "execution_count": 54,
   "metadata": {},
   "outputs": [
    {
     "name": "stdout",
     "output_type": "stream",
     "text": [
      "[0.8699672751714507, 0.873744831581798, 0.8728543096366247, 0.8553794077243572, 0.8536289632083307]\n"
     ]
    }
   ],
   "source": [
    "m = [0.3,0.2,0.1,0.01,0.001]\n",
    "kf = KFold(n_splits=10, random_state=7, shuffle = False)\n",
    "acc_hp = []\n",
    "for i in m:\n",
    "    m4 = XGBClassifier(verbosity = 0, use_label_encoder =False, learning_rate = i)\n",
    "    acc_kfold = []\n",
    "    for train_index, test_index in kf.split(Xtrain):\n",
    "        X_train2, X_val2 = Xtrain[train_index], Xtrain[test_index]\n",
    "        y_train2, y_val2 = ytrain[train_index], ytrain[test_index]\n",
    "        m4.fit(X_train2,y_train2)\n",
    "        ypred11 = m4.predict(X_val2)\n",
    "        acc_kfold.append(accuracy_score(y_val2,ypred11))\n",
    "    acc_hp.append(np.mean(acc_kfold))\n",
    "\n",
    "print (acc_hp)"
   ]
  },
  {
   "cell_type": "code",
   "execution_count": 55,
   "metadata": {},
   "outputs": [
    {
     "name": "stdout",
     "output_type": "stream",
     "text": [
      "learning rate and accuracy :  (0.3, 0.8699672751714507)\n",
      "learning rate and accuracy :  (0.2, 0.873744831581798)\n",
      "learning rate and accuracy :  (0.1, 0.8728543096366247)\n",
      "learning rate and accuracy :  (0.01, 0.8553794077243572)\n",
      "learning rate and accuracy :  (0.001, 0.8536289632083307)\n",
      "Accuracy Score 0.8727965112708065\n",
      "[[11679   756]\n",
      " [ 1315  2531]]\n"
     ]
    }
   ],
   "source": [
    "for i in range (5) :\n",
    "    print (\"learning rate and accuracy : \", (m[i],acc_hp[i]))\n",
    "\n",
    "mf = XGBClassifier(use_label_encoder =False, eta = 0.2 )\n",
    "mf.fit(Xtrain,ytrain)\n",
    "ypred2 = mf.predict(Xtest)\n",
    "\n",
    "acc2 = accuracy_score(ytest,ypred2)\n",
    "print (\"Accuracy Score\", acc2)\n",
    "\n",
    "print (confusion_matrix(ytest,ypred2))"
   ]
  },
  {
   "cell_type": "code",
   "execution_count": null,
   "metadata": {},
   "outputs": [],
   "source": []
  }
 ],
 "metadata": {
  "kernelspec": {
   "display_name": "Python 3",
   "language": "python",
   "name": "python3"
  },
  "language_info": {
   "codemirror_mode": {
    "name": "ipython",
    "version": 3
   },
   "file_extension": ".py",
   "mimetype": "text/x-python",
   "name": "python",
   "nbconvert_exporter": "python",
   "pygments_lexer": "ipython3",
   "version": "3.7.4"
  }
 },
 "nbformat": 4,
 "nbformat_minor": 4
}
